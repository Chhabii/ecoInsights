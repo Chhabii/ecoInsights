{
 "cells": [
  {
   "cell_type": "code",
   "execution_count": 3,
   "metadata": {},
   "outputs": [],
   "source": [
    "import joblib \n",
    "import torch \n",
    "import torch.nn as nn\n",
    "scaler = joblib.load(\"scaler.joblib\")\n",
    "class NeuralNetwork(nn.Module):\n",
    "    def __init__(self, input_size):\n",
    "        super(NeuralNetwork, self).__init__()\n",
    "        self.fc1 = nn.Linear(input_size, 10)\n",
    "        # self.fc2 = nn.Linear(20,10)\n",
    "        self.relu = nn.ReLU()\n",
    "        self.fc3 = nn.Linear(10, 1)\n",
    "\n",
    "    def forward(self, x):\n",
    "        x = self.relu(self.fc1(x))\n",
    "        # x = self.relu(self.fc2(x))\n",
    "        x= self.fc3(x)\n",
    "        return x\n"
   ]
  },
  {
   "cell_type": "code",
   "execution_count": 4,
   "metadata": {},
   "outputs": [
    {
     "data": {
      "text/plain": [
       "NeuralNetwork(\n",
       "  (fc1): Linear(in_features=8, out_features=10, bias=True)\n",
       "  (relu): ReLU()\n",
       "  (fc3): Linear(in_features=10, out_features=1, bias=True)\n",
       ")"
      ]
     },
     "execution_count": 4,
     "metadata": {},
     "output_type": "execute_result"
    }
   ],
   "source": [
    "input_size = 8\n",
    "loaded_nn_model = NeuralNetwork(input_size)\n",
    "loaded_nn_model.load_state_dict(torch.load('neural_network_model.pth'))\n",
    "loaded_nn_model.eval()  # Set the model to evaluation mode"
   ]
  },
  {
   "cell_type": "code",
   "execution_count": 7,
   "metadata": {},
   "outputs": [
    {
     "name": "stdout",
     "output_type": "stream",
     "text": [
      "Predicted Environmental Health Score: 66.86856842041016\n"
     ]
    },
    {
     "name": "stderr",
     "output_type": "stream",
     "text": [
      "/home/chhabi/Documents/hackathon/.venv/lib/python3.11/site-packages/sklearn/base.py:493: UserWarning: X does not have valid feature names, but StandardScaler was fitted with feature names\n",
      "  warnings.warn(\n"
     ]
    }
   ],
   "source": [
    "# Scale the new data\n",
    "\n",
    "new_data = torch.tensor([84,77,-1,48,58,24,70,66]).reshape(1,-1)\n",
    "new_data_scaled = scaler.transform(new_data)\n",
    "\n",
    "# Convert data to PyTorch tensor\n",
    "new_data_tensor = torch.tensor(new_data_scaled, dtype=torch.float32)\n",
    "\n",
    "# Make prediction\n",
    "with torch.no_grad():\n",
    "    nn_prediction_new_data = loaded_nn_model(new_data_tensor)\n",
    "\n",
    "# Print the prediction\n",
    "print(\"Predicted Environmental Health Score:\", nn_prediction_new_data.item())"
   ]
  },
  {
   "cell_type": "code",
   "execution_count": null,
   "metadata": {},
   "outputs": [],
   "source": []
  }
 ],
 "metadata": {
  "kernelspec": {
   "display_name": ".venv",
   "language": "python",
   "name": "python3"
  },
  "language_info": {
   "codemirror_mode": {
    "name": "ipython",
    "version": 3
   },
   "file_extension": ".py",
   "mimetype": "text/x-python",
   "name": "python",
   "nbconvert_exporter": "python",
   "pygments_lexer": "ipython3",
   "version": "3.11.7"
  }
 },
 "nbformat": 4,
 "nbformat_minor": 2
}
